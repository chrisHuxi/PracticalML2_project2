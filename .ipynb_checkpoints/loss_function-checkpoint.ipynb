{
 "cells": [
  {
   "cell_type": "code",
   "execution_count": 1,
   "metadata": {
    "collapsed": true
   },
   "outputs": [],
   "source": [
    "import tensorflow as tf\n",
    "import numpy as np"
   ]
  },
  {
   "cell_type": "markdown",
   "metadata": {},
   "source": [
    "# Constants\n"
   ]
  },
  {
   "cell_type": "code",
   "execution_count": 2,
   "metadata": {},
   "outputs": [
    {
     "name": "stdout",
     "output_type": "stream",
     "text": [
      "cell_param_count: 20\n",
      "vector_size: 980\n",
      "pedicted_shape: (7, 7, 20)\n",
      "training_shape: (7, 7, 15)\n"
     ]
    }
   ],
   "source": [
    "GRID_SIZE = 7\n",
    "CLASSES_COUNT = 10\n",
    "BBOX_PARAMETER_COUNT = 5\n",
    "BBOX_COUNT = 2\n",
    "\n",
    "cell_param_count = BBOX_COUNT * BBOX_PARAMETER_COUNT + CLASSES_COUNT\n",
    "vector_size = GRID_SIZE * GRID_SIZE * cell_param_count\n",
    "\n",
    "pedicted_shape = (GRID_SIZE, GRID_SIZE, cell_param_count)\n",
    "training_shape = (GRID_SIZE, GRID_SIZE, CLASSES_COUNT+BBOX_PARAMETER_COUNT)\n",
    "\n",
    "print('cell_param_count: ' + str(cell_param_count))\n",
    "print('vector_size: ' + str(vector_size))\n",
    "print('pedicted_shape: ' + str(pedicted_shape))\n",
    "print('training_shape: ' + str(training_shape))\n"
   ]
  },
  {
   "cell_type": "markdown",
   "metadata": {},
   "source": [
    "#Initialization\n"
   ]
  },
  {
   "cell_type": "code",
   "execution_count": 4,
   "metadata": {
    "collapsed": true
   },
   "outputs": [],
   "source": [
    "def create_bbox(x, y, w, h, box_conf, class_id):\n",
    "    # (x, y, w, h, box confidence score, class probabilities)\n",
    "    class_probabilities[class_id] = 1    \n",
    "    bbox_params = np.array([x, y, w, h, box_conf])\n",
    "    bbox_params = np.append(bbox_params, class_probabilities) \n",
    "    \n",
    "    return bbox_params"
   ]
  },
  {
   "cell_type": "code",
   "execution_count": 5,
   "metadata": {},
   "outputs": [
    {
     "ename": "NameError",
     "evalue": "name 'class_probabilities' is not defined",
     "traceback": [
      "\u001b[0;31m---------------------------------------------------------------------------\u001b[0m",
      "\u001b[0;31mNameError\u001b[0m                                 Traceback (most recent call last)",
      "\u001b[0;32m<ipython-input-5-4a19ad505455>\u001b[0m in \u001b[0;36m<module>\u001b[0;34m()\u001b[0m\n\u001b[1;32m      2\u001b[0m \u001b[0my_true_np\u001b[0m \u001b[0;34m=\u001b[0m \u001b[0mnp\u001b[0m\u001b[0;34m.\u001b[0m\u001b[0mzeros\u001b[0m\u001b[0;34m(\u001b[0m\u001b[0mtraining_shape\u001b[0m\u001b[0;34m)\u001b[0m\u001b[0;34m\u001b[0m\u001b[0m\n\u001b[1;32m      3\u001b[0m \u001b[0;34m\u001b[0m\u001b[0m\n\u001b[0;32m----> 4\u001b[0;31m \u001b[0mobject_1\u001b[0m \u001b[0;34m=\u001b[0m \u001b[0mcreate_bbox\u001b[0m\u001b[0;34m(\u001b[0m\u001b[0mx\u001b[0m\u001b[0;34m=\u001b[0m\u001b[0;36m0.5\u001b[0m\u001b[0;34m,\u001b[0m \u001b[0my\u001b[0m\u001b[0;34m=\u001b[0m\u001b[0;36m0.5\u001b[0m\u001b[0;34m,\u001b[0m \u001b[0mw\u001b[0m\u001b[0;34m=\u001b[0m\u001b[0;36m0.3\u001b[0m\u001b[0;34m,\u001b[0m \u001b[0mh\u001b[0m\u001b[0;34m=\u001b[0m\u001b[0;36m0.3\u001b[0m\u001b[0;34m,\u001b[0m \u001b[0mbox_conf\u001b[0m\u001b[0;34m=\u001b[0m\u001b[0;36m1.0\u001b[0m\u001b[0;34m,\u001b[0m \u001b[0mclass_id\u001b[0m\u001b[0;34m=\u001b[0m\u001b[0;36m9\u001b[0m\u001b[0;34m)\u001b[0m\u001b[0;34m\u001b[0m\u001b[0m\n\u001b[0m\u001b[1;32m      5\u001b[0m \u001b[0mobject_2\u001b[0m \u001b[0;34m=\u001b[0m \u001b[0mcreate_bbox\u001b[0m\u001b[0;34m(\u001b[0m\u001b[0mx\u001b[0m\u001b[0;34m=\u001b[0m\u001b[0;36m0.1\u001b[0m\u001b[0;34m,\u001b[0m \u001b[0my\u001b[0m\u001b[0;34m=\u001b[0m\u001b[0;36m0.1\u001b[0m\u001b[0;34m,\u001b[0m \u001b[0mw\u001b[0m\u001b[0;34m=\u001b[0m\u001b[0;36m0.1\u001b[0m\u001b[0;34m,\u001b[0m \u001b[0mh\u001b[0m\u001b[0;34m=\u001b[0m\u001b[0;36m0.1\u001b[0m\u001b[0;34m,\u001b[0m \u001b[0mbox_conf\u001b[0m\u001b[0;34m=\u001b[0m\u001b[0;36m1.0\u001b[0m\u001b[0;34m,\u001b[0m \u001b[0mclass_id\u001b[0m\u001b[0;34m=\u001b[0m\u001b[0;36m1\u001b[0m\u001b[0;34m)\u001b[0m\u001b[0;34m\u001b[0m\u001b[0m\n\u001b[1;32m      6\u001b[0m \u001b[0;34m\u001b[0m\u001b[0m\n",
      "\u001b[0;32m<ipython-input-4-3e75a8746845>\u001b[0m in \u001b[0;36mcreate_bbox\u001b[0;34m(x, y, w, h, box_conf, class_id)\u001b[0m\n\u001b[1;32m      1\u001b[0m \u001b[0;32mdef\u001b[0m \u001b[0mcreate_bbox\u001b[0m\u001b[0;34m(\u001b[0m\u001b[0mx\u001b[0m\u001b[0;34m,\u001b[0m \u001b[0my\u001b[0m\u001b[0;34m,\u001b[0m \u001b[0mw\u001b[0m\u001b[0;34m,\u001b[0m \u001b[0mh\u001b[0m\u001b[0;34m,\u001b[0m \u001b[0mbox_conf\u001b[0m\u001b[0;34m,\u001b[0m \u001b[0mclass_id\u001b[0m\u001b[0;34m)\u001b[0m\u001b[0;34m:\u001b[0m\u001b[0;34m\u001b[0m\u001b[0m\n\u001b[1;32m      2\u001b[0m     \u001b[0;31m# (x, y, w, h, box confidence score, class probabilities)\u001b[0m\u001b[0;34m\u001b[0m\u001b[0;34m\u001b[0m\u001b[0m\n\u001b[0;32m----> 3\u001b[0;31m     \u001b[0mclass_probabilities\u001b[0m\u001b[0;34m[\u001b[0m\u001b[0mclass_id\u001b[0m\u001b[0;34m]\u001b[0m \u001b[0;34m=\u001b[0m \u001b[0;36m1\u001b[0m\u001b[0;34m\u001b[0m\u001b[0m\n\u001b[0m\u001b[1;32m      4\u001b[0m     \u001b[0mbbox_params\u001b[0m \u001b[0;34m=\u001b[0m \u001b[0mnp\u001b[0m\u001b[0;34m.\u001b[0m\u001b[0marray\u001b[0m\u001b[0;34m(\u001b[0m\u001b[0;34m[\u001b[0m\u001b[0mx\u001b[0m\u001b[0;34m,\u001b[0m \u001b[0my\u001b[0m\u001b[0;34m,\u001b[0m \u001b[0mw\u001b[0m\u001b[0;34m,\u001b[0m \u001b[0mh\u001b[0m\u001b[0;34m,\u001b[0m \u001b[0mbox_conf\u001b[0m\u001b[0;34m]\u001b[0m\u001b[0;34m)\u001b[0m\u001b[0;34m\u001b[0m\u001b[0m\n\u001b[1;32m      5\u001b[0m     \u001b[0mbbox_params\u001b[0m \u001b[0;34m=\u001b[0m \u001b[0mnp\u001b[0m\u001b[0;34m.\u001b[0m\u001b[0mappend\u001b[0m\u001b[0;34m(\u001b[0m\u001b[0mbbox_params\u001b[0m\u001b[0;34m,\u001b[0m \u001b[0mclass_probabilities\u001b[0m\u001b[0;34m)\u001b[0m\u001b[0;34m\u001b[0m\u001b[0m\n",
      "\u001b[0;31mNameError\u001b[0m: name 'class_probabilities' is not defined"
     ],
     "output_type": "error"
    }
   ],
   "source": [
    "# create true vector\n",
    "y_true_np = np.zeros(training_shape)\n",
    "\n",
    "object_1 = create_bbox(x=0.5, y=0.5, w=0.3, h=0.3, box_conf=1.0, class_id=9)\n",
    "object_2 = create_bbox(x=0.1, y=0.1, w=0.1, h=0.1, box_conf=1.0, class_id=1)\n",
    "\n",
    "y_true_np[3, 3, :] = object_1\n",
    "y_true_np[6, 6, :] = object_2\n",
    "\n",
    "\n",
    "print('One bbox example:')\n",
    "print(y_true_np[3, 3, :])\n",
    "\n",
    "y_true_np = y_true_np.flatten()\n",
    "# y_true_np = np.reshape(y_true_np, (training_shape))\n",
    "\n",
    "\n",
    "\n",
    "\n",
    "y_true = tf.convert_to_tensor(y_true_np, dtype=tf.float32)\n"
   ]
  },
  {
   "cell_type": "code",
   "execution_count": 54,
   "metadata": {},
   "outputs": [
    {
     "name": "stdout",
     "output_type": "stream",
     "text": [
      "One bbox example:\n",
      "[ 0.3  0.3  0.1  0.1  0.7  0.4  0.4  0.2  0.2  0.8  0.   0.   0.   0.   0.\n",
      "  0.   0.   0.   0.   1. ]\n"
     ]
    }
   ],
   "source": [
    "# create predicted vector\n",
    "y_pred_np = np.zeros(pedicted_shape)\n",
    "\n",
    "object_1 = create_bbox(x=0.4, y=0.4, w=0.2, h=0.2, box_conf=0.8, class_id=9)\n",
    "object_1_1 = create_bbox(x=0.3, y=0.3, w=0.1, h=0.1, box_conf=0.7, class_id=5)\n",
    "\n",
    "y_pred_np[3, 3, :] = np.append([0.3, 0.3, 0.1, 0.1, 0.7], object_1)\n",
    "\n",
    "\n",
    "print('One bbox example:')\n",
    "print(y_pred_np[3, 3, :])\n",
    "\n",
    "y_pred_np = y_pred_np.flatten()\n",
    "# y_true_np = np.reshape(y_true_np, (training_shape))\n",
    "\n",
    "\n",
    "\n",
    "\n",
    "y_pred = tf.convert_to_tensor(y_pred_np, dtype=tf.float32)\n"
   ]
  },
  {
   "cell_type": "markdown",
   "metadata": {},
   "source": [
    "#Loss function"
   ]
  },
  {
   "cell_type": "code",
   "execution_count": 67,
   "metadata": {
    "collapsed": true
   },
   "outputs": [],
   "source": [
    "def loss_function(y_true, y_pred):\n",
    "    y_true = tf.reshape(y_true, training_shape)\n",
    "    y_pred = tf.reshape(y_pred, pedicted_shape)\n",
    "    \n",
    "    y_true = tf.Print(y_true, [y_true])\n",
    "    \n",
    "    return y_true[3,3,:]"
   ]
  },
  {
   "cell_type": "code",
   "execution_count": 68,
   "metadata": {
    "collapsed": true
   },
   "outputs": [
    {
     "name": "stdout",
     "output_type": "stream",
     "text": [
      "[ 0.5         0.5         0.30000001  0.30000001  1.          0.          0.\n",
      "  0.          0.          0.          0.          0.          0.          0.\n",
      "  1.        ]\n"
     ]
    }
   ],
   "source": [
    "with tf.Session() as sess:\n",
    "    print(sess.run(loss_function(y_true=y_true, y_pred=y_pred)))"
   ]
  },
  {
   "cell_type": "code",
   "execution_count": null,
   "metadata": {
    "collapsed": true
   },
   "outputs": [],
   "source": []
  },
  {
   "cell_type": "code",
   "execution_count": null,
   "metadata": {
    "collapsed": true
   },
   "outputs": [],
   "source": []
  }
 ],
 "metadata": {
  "kernelspec": {
   "display_name": "Python 3",
   "language": "python",
   "name": "python3"
  },
  "language_info": {
   "codemirror_mode": {
    "name": "ipython",
    "version": 3
   },
   "file_extension": ".py",
   "mimetype": "text/x-python",
   "name": "python",
   "nbconvert_exporter": "python",
   "pygments_lexer": "ipython3",
   "version": "3.5.4"
  }
 },
 "nbformat": 4,
 "nbformat_minor": 1
}
